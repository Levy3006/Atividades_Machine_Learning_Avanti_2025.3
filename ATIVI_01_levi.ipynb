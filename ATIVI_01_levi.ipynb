{
 "cells": [
  {
   "cell_type": "markdown",
   "id": "59cd63cc",
   "metadata": {},
   "source": [
    "<h3>1. Explique, com suas palavras, o que é machine learning?</h3>"
   ]
  },
  {
   "cell_type": "markdown",
   "id": "7cf97f67",
   "metadata": {},
   "source": [
    "Machine learning é uma subárea da IA que se concentra em fazer maquinas aprenderem de maneira automatizada (sem a necessidade de estar programando cada tarefa), por meio de dados. Em vez de criar um programa específico que receba um passo a passo, o algoritimo recebe dados e exemplos, identifica padrões, cria modelos e consegue fazer previsões, reconhecer informações, classificar, segmentar, recomendar, entre outras atividades. No geral, Machine leraning é ensinar a maquina a aprender com dados para tomar decisões sozinha."
   ]
  },
  {
   "cell_type": "markdown",
   "id": "b30efcb2",
   "metadata": {},
   "source": [
    "<h3>2. Explique o conceito de conjunto de treinamento, conjunto de validação e\n",
    "conjunto de teste em machine learning.</h3>"
   ]
  },
  {
   "cell_type": "markdown",
   "id": "41b3ed21",
   "metadata": {},
   "source": [
    "Quando os dados são coletados, não ultilizamos toda a nossa amostra na criação do modelo. Essa amostra é dividida em amostras ainda menores,\n",
    "que são: dados de treino, validação e teste \n",
    "Dados de Treino: é os dados que são ultilizados para fazer o modelo aprender. é importante\n",
    "ressaltar que quanto melhores forem os dados de treino (sem ruídos, em maior quantidade possível (para evitar overfitting) e representando de maneira fiel a população), melhores serão os resultados\n",
    "Geralmente, cerca de aproximadamente 70% da amostra inicial é reservada para  treinamento do modelo.\n",
    "dados de validação: São usados para simular os dados de teste, e detectar falhas, e maneiras de otimizar os resultados, ajustando parametros e evitando overfitting. Em uma analogia, seria como se \n",
    "os dados de treinamento fossem o estudo para uma prova, os de validação fossem simulados pra testar o que foi aprendido, e os de teste fossem a prova final."
   ]
  },
  {
   "cell_type": "markdown",
   "id": "5f4ceab6",
   "metadata": {},
   "source": [
    "<h2>\n",
    "3. Explique como você lidaria com dados ausentes em um conjunto de dados\n",
    "de treinamento\n",
    "</h2>"
   ]
  },
  {
   "cell_type": "markdown",
   "id": "064cb61c",
   "metadata": {},
   "source": [
    "primeiro faria uma análise inicial em cima desses dados faltantes, e analisaria o percentual dos dados faltantes em relação ao todo, para cada variável, se eram relevantes ou não, e o que causou essa falta (se faltou de maneira totalmente aleatória, se outra variável influenciou a falta ou se a falta foi devido a fatores impossíveis de medir.)\n",
    "\n",
    "se um percentual grande dos dados de certa variável faltarem, talvez possa ser conveniente descartar essa variável, pois um conjunto de dados pequeno pode gerar viéses.\n",
    "No caso de percentual baixo em relação ao todo da variável, os registros que continham dados faltantes poderiam ter sido removidos ou serem imputados com media, mediana, moda ou o que fosse mais conveniente.\n",
    "\n",
    "é interessante também saber o que causa esses dados faltantes.\n",
    "Os dados podem faltar basicamente por 3 motivos: algum evento aleatório,  alguma outra variável que causou a falta, ou por um motivo totalmente desconhecido, mas que influencia a falta.\n",
    "No cenário ideal (Evento aleatório) não causa viés, e pode facilmente ser removido ou inputado dado na variavel com dados faltantes.\n",
    "em casos em que faltas em uma variável são influenciadas por outra variável, se essa outra variável entrar no modelo é possível reduzir o viés.\n",
    "se no caso, o motivo das faltas dessa variável foi totalmente desconhecido, mas se sabe que há um motivo, aí poderemos ter problemas e pode ser necessário realizar uma nova coleta."
   ]
  },
  {
   "cell_type": "markdown",
   "id": "4302872b",
   "metadata": {},
   "source": [
    "<h3>4. O que é uma matriz de confusão e como ela é usada para avaliar o\n",
    "desempenho de um modelo preditivo?\n",
    "</h3>"
   ]
  },
  {
   "cell_type": "markdown",
   "id": "8342a178",
   "metadata": {},
   "source": [
    "Uma matriz de confusão é uma tabela que é usada para medir o desempenho de um modelo, quantas vezes ele acerta e erra, para cada categoria. as linhas dessa tablea representam as classes reais, enquanto as colunas representam a classe prevista pelo modelo. a partir dessas contagens e comparações com o que o modelo preveu e a real classe do objeto de análise, podemos obter os principais tipos de resultados:\n",
    "\n",
    "verdadeiro positivo (VP): o modelo prevê positivo, e a real classe também é positiva\n",
    "verdadeiro negativo (VN): o modelo prevê negativo, e a real classe também é negativa\n",
    "Falso Positivo (FP): o modelo prevê positivo, mas a real classe é negativo\n",
    "False Negativo (FN): o modelo prevê negativo, mas a classe real é positivo\n",
    "\n",
    "através desses resultados, podemos calcular métricas que medem o desempenho do modelo:\n",
    "\n",
    "Acurácia: proporção total de acertos do modelo. (VP + VN / VP + VN + FP + FN)\n",
    "Precisão: proporção de verdadeiros positivos sobre todos os casos previstos como positivos. (VP / VP + FP)\n",
    "Recall:   Essa métrica avalia a capacidade do método de detectar com sucesso resultados classificados como positivos. ( VP/ VP + FN)\n",
    "Especificidade: a especificidade avalia a capacidade do método de detectar resultados negativos (VN / VN + FP)\n",
    "F1-Score: média harmônica entre recall e precisão, e é útil quando há desequilíbrio entre as classes. (2 X (Precisão X Recall) / (Precisão + Recall))\n",
    "\n",
    "Quando usar cada métrica?\n",
    "\n",
    "O uso de cada métrica depende do objetivo do modelo que se deseja criar.Por exemplo, um modelo detector de spam, pode nos trazer problemas críticos ao classificar falsos positivos ( o modelo entende que é um spam, mas na verdade não é). Nesse caso a melhor métrica para avaliar o modelo é a precisão.\n",
    "\n",
    "Em um modelo que detecta falhas em um avião, Falsos Negativos poderiam colocar vidas em risco (Há problemas no avião, mas o modelo não detecta nada.)\n",
    "\n",
    "de maneira geral temos:\n",
    "\n",
    "Acurácia -> quando as classes estão com dados equilibrados.\n",
    "\n",
    "F1 - Score: classes com dados desequilibrados (exemplo: Classificação de textos (detectar discurso de ódio): geralmente desbalanceado, e precisa balancear recall e precisão.)\n",
    "\n",
    "Precisão: Se FP são caros/custosos (exemplo: detector de spam: melhor deixar passar alguns spams (FN) do que classificar um e-mail de trabalho como spam (FP)., Justiça: acusar alguém inocente (FP) é muito pior que deixar escapar alguns culpados (FN).)\n",
    "\n",
    "Recall -> Falso Negativo (FN) pesa bastante: Você quer garantir que quase todos os positivos reais sejam detectados, mesmo que venha com alarmes falsos.\n",
    "(Exemplo: Diagnóstico de câncer: é melhor ter alguns falsos alarmes (FP) do que perder pacientes doentes (FN).)\n",
    "\n",
    "Especificidade: Para evitar alarmes falsos em quem é realmente negativo. Foca em dizer com confiança que “negativo é mesmo negativo”.\n",
    "exemplo: Teste confirmatório de doping: precisa ser altamente específico → se der positivo, é quase certeza que a pessoa usou\n"
   ]
  },
  {
   "cell_type": "markdown",
   "id": "00b5b9d7",
   "metadata": {},
   "source": [
    "<h3>5. Em quais áreas (tais como construção civil, agricultura, saúde, manufatura,\n",
    "entre outras) você acha mais interessante aplicar algoritmos de machine\n",
    "learning?</h3>"
   ]
  },
  {
   "cell_type": "markdown",
   "id": "71d72ee8",
   "metadata": {},
   "source": []
  },
  {
   "cell_type": "markdown",
   "id": "43c790c3",
   "metadata": {},
   "source": [
    "<h5>Diagnóstico médico</h5>: detectar câncer em exames de imagem (raios-X, ressonâncias) ou prever doenças a partir de historico clínico.\n",
    "recomendar tratamentos específicos com base no perfil genético do paciente.\n",
    "\n",
    "Detecção precoce: prever surtos de epidemias ou risco de complicações em UTI.\n",
    "\n",
    "<h5>Agricultura</h5>\n",
    "\n",
    "prever produtividade de safras com base em clima, solo e uso de insumos.\n",
    "\n",
    "Detecção de pragas e doenças: análise de imagens de drones para identificar problemas em plantações.\n",
    "\n",
    "prever a quantidade de água necessária em cada área da lavoura.\n",
    "vai gerar aumento de produtividade, redução de desperdício.\n",
    "\n",
    "<h5>Construção civil</h5>\n",
    "\n",
    "prever falhas em cronogramas, atrasos de obras e custos extras.\n",
    "identificar riscos em canteiros de obras com câmeras inteligentes (uso de EPIs, quedas).\n",
    "\n",
    "prever falhas em equipamentos pesados (escavadeiras, guindastes).\n",
    "obras mais seguras, baratas e rápidas.\n",
    "\n",
    "<h5>Manufatura (Indústria)</h5>\n",
    "\n",
    "prever quando uma máquina vai quebrar para evitar paradas na linha de produção.\n",
    "\n",
    "Controle de qualidade: inspeção automática de produtos com visão computacional.\n",
    "\n",
    "ajustar parâmetros de produção para reduzir desperdício de energia e matéria-prima.\n",
    "redução de custos e aumento de eficiência.\n",
    "\n",
    "<h5>Finanças</h5>\n",
    "\n",
    "Detecção de fraudes: identificar transações suspeitas em tempo real.\n",
    "prever se um cliente vai pagar ou não um empréstimo.\n",
    "\n",
    "prever variações de preços de ativos.\n",
    "menos perdas financeiras e decisões mais rápidas.\n",
    "\n",
    "<h5>Transporte e Logística</h5>\n",
    "\n",
    "Rotas inteligentes: otimizar entregas considerando trânsito e clima.\n",
    "\n",
    "Previsão de demanda: prever fluxo de passageiros ou de mercadorias.\n",
    "\n",
    "Veículos autônomos: carros e caminhões que dirigem sozinhos.\n",
    "redução de custos logísticos, mais segurança."
   ]
  }
 ],
 "metadata": {
  "language_info": {
   "name": "python"
  }
 },
 "nbformat": 4,
 "nbformat_minor": 5
}
