{
 "cells": [
  {
   "cell_type": "markdown",
   "id": "0793ccd9",
   "metadata": {},
   "source": [
    "<h3>1. Escreva uma função que receba uma lista de números e retorne outra lista\n",
    "com os números ímpares.</h3>\n"
   ]
  },
  {
   "cell_type": "code",
   "execution_count": 59,
   "id": "57732d95",
   "metadata": {},
   "outputs": [
    {
     "name": "stdout",
     "output_type": "stream",
     "text": [
      "[1, 3, 5, 7, 9]\n"
     ]
    }
   ],
   "source": [
    "def RetornaImpares(numeros: list[int]) -> list[int]:\n",
    "    impares = [x for x in numeros if x % 2 != 0]\n",
    "    return impares\n",
    "\n",
    "resultado = RetornaImpares([1,2,3,4,5,6,7,8,9,10])\n",
    "print(resultado)"
   ]
  },
  {
   "cell_type": "markdown",
   "id": "e7856085",
   "metadata": {},
   "source": [
    "<h3>2. Escreva uma função que receba uma lista de números e retorne outra lista\n",
    "com os números primos presentes.</h3>\n"
   ]
  },
  {
   "cell_type": "code",
   "execution_count": 70,
   "id": "10f83743",
   "metadata": {},
   "outputs": [
    {
     "name": "stdout",
     "output_type": "stream",
     "text": [
      "[2, 3, 5, 7, 11, 13, 17, 19, 23]\n"
     ]
    }
   ],
   "source": [
    "def SeparaPrimos(numeros: list[int]) -> list[int]:\n",
    "    primes = []\n",
    "    for x in numeros:\n",
    "        if x < 2:\n",
    "            continue\n",
    "        for k in range(x-1, 0, -1):\n",
    "            if x % k == 0 and k != 1:\n",
    "                break\n",
    "        else:\n",
    "            primes.append(x)\n",
    "    return primes\n",
    "\n",
    "print(SeparaPrimos([x for x in range(1,23+1)]))\n"
   ]
  },
  {
   "cell_type": "markdown",
   "id": "3e92ded1",
   "metadata": {},
   "source": [
    "<h3>3. Escreva uma função que receba duas listas e<BR>\n",
    "retorne outra lista com oselementos que estão <BR>presentes em apenas uma das listas </h3>\n"
   ]
  },
  {
   "cell_type": "code",
   "execution_count": 69,
   "id": "68d4a340",
   "metadata": {},
   "outputs": [
    {
     "name": "stdout",
     "output_type": "stream",
     "text": [
      "[1, 2, 5, 6]\n",
      "[1, 2, 5, 6, 9]\n",
      "None\n"
     ]
    }
   ],
   "source": [
    "#solução 1\n",
    "def NotShared(l1, l2):\n",
    "    return [x for x in l1 if x not in l2] + [y for y in l2 if y not in l1]\n",
    "\n",
    "res = NotShared([1,2,3,4],[3,4,5,6])\n",
    "print(res)\n",
    "\n",
    "#solução 2\n",
    "def NotShared2(l1, l2):\n",
    "    return list(set(l1) ^ set(l2))\n",
    "\n",
    "res = print(NotShared2([1,2,4,3,4],[3,4,5,6,9,9]))\n",
    "print(res)\n"
   ]
  },
  {
   "cell_type": "markdown",
   "id": "8e23bcd9",
   "metadata": {},
   "source": [
    "<h3>4. Dada uma lista de números inteiros, escreva uma função para encontrar o\n",
    "segundo maior valor na lista.</h3> \n"
   ]
  },
  {
   "cell_type": "code",
   "execution_count": null,
   "id": "c5811362",
   "metadata": {},
   "outputs": [
    {
     "name": "stdout",
     "output_type": "stream",
     "text": [
      "3\n",
      "7\n"
     ]
    }
   ],
   "source": [
    "#1 Solução\n",
    "def findSecond(l: list):\n",
    "    maior = l[0]\n",
    "    for x in l:\n",
    "        if x > maior:\n",
    "            maior = x\n",
    "    l = [x for x in l if x != maior]\n",
    "    segundoMaior =l[0]\n",
    "    for x in l:\n",
    "        if x > segundoMaior:\n",
    "            segundoMaior = x\n",
    "    return segundoMaior\n",
    "  \n",
    "print(findSecond([4,3,2,1]))\n",
    "\n",
    "\n",
    "#solução 2 \n",
    "def findSecond(l: list):\n",
    "    l = sorted(set(l), reverse=True)\n",
    "    return l[1] if len(l) > 1 else None\n",
    "print(findSecond([1,4,7,3,9]))"
   ]
  },
  {
   "cell_type": "markdown",
   "id": "162f7d35",
   "metadata": {},
   "source": [
    "<h3>5. Crie uma função que receba uma lista de tuplas, cada uma contendo o\n",
    "nome e a idade de uma pessoa, e retorne a lista ordenada pelo nome das\n",
    "pessoas em ordem alfabética.</h3>\n"
   ]
  },
  {
   "cell_type": "code",
   "execution_count": null,
   "id": "a63f3657",
   "metadata": {},
   "outputs": [
    {
     "name": "stdout",
     "output_type": "stream",
     "text": [
      "[('Amanda', 25), ('Carlos', 19), ('Eduardo', 32)]\n",
      "[('Biatriz', 25), ('Carlos', 19), ('João', 32)]\n",
      "[('Alexandre', 19), ('Sérgio', 32), ('Talita', 25)]\n"
     ]
    }
   ],
   "source": [
    "#solucao 1\n",
    "def ordenaPorNome(dados: list[tuple]) -> list[tuple]:\n",
    "    \n",
    "    ordenados = sorted(dados) # cria nova lista\n",
    "    return ordenados\n",
    "resultado1 = ordenaPorNome([('Carlos',19),('Amanda',25),('Eduardo',32)])\n",
    "print(resultado1)\n",
    " \n",
    "#solucao 2\n",
    "def ordenaPorNome2(dados: list[tuple]) -> list[tuple]:\n",
    "    dados.sort() # modifica a lista original\n",
    "    return dados\n",
    "resultado2 = ordenaPorNome2([('Carlos',19),('Biatriz',25),('João',32)])\n",
    "print(resultado2)\n",
    "\n",
    "#solucao 3\n",
    "def ordenaPorNome3(dados: list[tuple]) -> list[tuple]:\n",
    "    return sorted(dados, key = lambda x: x[0])\n",
    "resultado3 = ordenaPorNome3([('Alexandre',19),('Talita',25),('Sérgio',32)])\n",
    "print(resultado3)"
   ]
  },
  {
   "cell_type": "markdown",
   "id": "22e4c188",
   "metadata": {},
   "source": [
    "<h3>6. Como identificar e tratar outliers em uma coluna numérica usando desvio\n",
    "padrão ou quartis?</h3>\n"
   ]
  },
  {
   "cell_type": "markdown",
   "id": "483db448",
   "metadata": {},
   "source": [
    "1 - Usando Desvio Padrão: se um valor está a 2 ou 3 desvios padrões de distancia da média, ele pode ser considerado\n",
    "outlier."
   ]
  },
  {
   "cell_type": "code",
   "execution_count": 44,
   "id": "a8d6715c",
   "metadata": {},
   "outputs": [
    {
     "name": "stdout",
     "output_type": "stream",
     "text": [
      "    valores\n",
      "10       98\n"
     ]
    }
   ],
   "source": [
    "#exemplo\n",
    "import pandas as pd\n",
    "\n",
    "valores = {'valores' : [1,2,10,15,12,16,9,13,14,11,98]}\n",
    "df = pd.DataFrame(valores)\n",
    "\n",
    "#Encontrando média e desvio padrao\n",
    "media = df['valores'].mean()\n",
    "desvioPadrao = df['valores'].std()\n",
    "\n",
    "limite_inf = media - 2*desvioPadrao\n",
    "limite_sup = media + 2*desvioPadrao\n",
    "\n",
    "outliers = df[(df['valores'] < limite_inf) | (df['valores'] > limite_sup)]\n",
    "print(outliers)\n"
   ]
  },
  {
   "cell_type": "markdown",
   "id": "69447031",
   "metadata": {},
   "source": [
    "2 - Ultilizando Quartis (IQR - Intervalo Interquartil)"
   ]
  },
  {
   "cell_type": "code",
   "execution_count": 46,
   "id": "67ac6b7e",
   "metadata": {},
   "outputs": [
    {
     "name": "stdout",
     "output_type": "stream",
     "text": [
      "9.5\n",
      "14.5\n",
      "    valores\n",
      "0         1\n",
      "10       98\n"
     ]
    }
   ],
   "source": [
    "Q1 = df['valores'].quantile(0.25) #quartil 1\n",
    "Q3 = df['valores'].quantile(0.75) #quartil 2\n",
    "print(Q1)\n",
    "print(Q3)\n",
    "\n",
    "IQR = Q3 - Q1\n",
    "\n",
    "limite_inf = Q1 - 1.5*IQR\n",
    "limite_sup = Q3 + 1.5*IQR\n",
    "\n",
    "outliers = df[(df['valores'] < limite_inf) | (df['valores'] > limite_sup)]\n",
    "print(outliers)\n"
   ]
  },
  {
   "cell_type": "markdown",
   "id": "78067446",
   "metadata": {},
   "source": [
    "<h3>7. Como concatenar vários DataFrames (empilhando linhas ou colunas),\n",
    "mesmo que tenham colunas diferentes?\n",
    "Dica: Utiliza-se pd.concat() especificando axis=0 (linhas) ou axis=1\n",
    "(colunas). Quando há colunas diferentes, os valores ausentes são\n",
    "preenchidos com NaN.</h3>\n"
   ]
  },
  {
   "cell_type": "code",
   "execution_count": null,
   "id": "450979c1",
   "metadata": {},
   "outputs": [],
   "source": [
    "df1 = pd.DataFrame({\n",
    "    \"Nome\": [\"Ana\", \"Carlos\"],\n",
    "    \"Idade\": [23, 30]\n",
    "})\n",
    "\n",
    "df2 = pd.DataFrame({\n",
    "    \"Nome\": [\"Edu\", \"Joana\"],\n",
    "    \"Idade\": [35, 28],\n",
    "    \"Cidade\": [\"SP\", \"RJ\"]\n",
    "})\n",
    "\n",
    "# o Axis= 0 refere se ao eixe das linhas, ou seja concatenar Empilhando linhas\n",
    "df_concat = pd.concat([df1, df2], axis=0)\n",
    "print(df_concat)\n"
   ]
  },
  {
   "cell_type": "markdown",
   "id": "b1524f14",
   "metadata": {},
   "source": [
    "<h3>8. Utilizando pandas, como realizar a leitura de um arquivo CSV em um\n",
    "DataFrame e exibir as primeiras linhas?</h3>\n"
   ]
  },
  {
   "cell_type": "code",
   "execution_count": null,
   "id": "6b7ded19",
   "metadata": {},
   "outputs": [],
   "source": [
    "import pandas as pd\n",
    "\n",
    "#através da função read_csv() e especificando alguns parametros se for preciso\n",
    "caminho = '.../'\n",
    "df = pd.read_csv(caminho+'arquivo.csv', sep=',', encoding='utf-8-sig')\n",
    "df.head(10)\n",
    "\n",
    "# ======= Principais parâmetros de read_csv() ===========================\n",
    "\n",
    "# sep=',' → define o separador.\n",
    "# Exemplo: sep=';' quando os dados vêm de Excel/BRASIL.\n",
    "\n",
    "# encoding='utf-8-sig' → garante que caracteres com acento (á, é, ã) sejam lidos corretamente.\n",
    "# Outros comuns: latin1, ISO-8859-1.\n",
    "\n",
    "# header=0 → define a linha que é o cabeçalho (por padrão é a primeira).\n",
    "\n",
    "# names=[...] → define manualmente os nomes das colunas.\n",
    "\n",
    "# usecols=[...] → carrega apenas algumas colunas.\n",
    "\n",
    "# nrows=10 → lê só as 10 primeiras linhas.\n",
    "\n",
    "# dtype={'coluna': 'string'} → força o tipo de dado de uma coluna."
   ]
  },
  {
   "cell_type": "markdown",
   "id": "b79d97af",
   "metadata": {},
   "source": [
    "<h3>9. Utilizando pandas, como selecionar uma coluna específica e filtrar linhas\n",
    "em um “DataFrame” com base em uma condição?</h3>\n"
   ]
  },
  {
   "cell_type": "code",
   "execution_count": null,
   "id": "62b2b607",
   "metadata": {},
   "outputs": [
    {
     "data": {
      "application/vnd.microsoft.datawrangler.viewer.v0+json": {
       "columns": [
        {
         "name": "index",
         "rawType": "int64",
         "type": "integer"
        },
        {
         "name": "Nome",
         "rawType": "object",
         "type": "string"
        },
        {
         "name": "Estado",
         "rawType": "object",
         "type": "string"
        }
       ],
       "ref": "43dbe8de-2732-4823-8675-34427f9e18c7",
       "rows": [
        [
         "1",
         "Amanda",
         "Rio de Janeiro"
        ],
        [
         "2",
         "Pedro",
         "Ceará"
        ],
        [
         "3",
         "João",
         "Rio de Janeiro"
        ],
        [
         "4",
         "Lídia",
         "Ceará"
        ]
       ],
       "shape": {
        "columns": 2,
        "rows": 4
       }
      },
      "text/html": [
       "<div>\n",
       "<style scoped>\n",
       "    .dataframe tbody tr th:only-of-type {\n",
       "        vertical-align: middle;\n",
       "    }\n",
       "\n",
       "    .dataframe tbody tr th {\n",
       "        vertical-align: top;\n",
       "    }\n",
       "\n",
       "    .dataframe thead th {\n",
       "        text-align: right;\n",
       "    }\n",
       "</style>\n",
       "<table border=\"1\" class=\"dataframe\">\n",
       "  <thead>\n",
       "    <tr style=\"text-align: right;\">\n",
       "      <th></th>\n",
       "      <th>Nome</th>\n",
       "      <th>Estado</th>\n",
       "    </tr>\n",
       "  </thead>\n",
       "  <tbody>\n",
       "    <tr>\n",
       "      <th>1</th>\n",
       "      <td>Amanda</td>\n",
       "      <td>Rio de Janeiro</td>\n",
       "    </tr>\n",
       "    <tr>\n",
       "      <th>2</th>\n",
       "      <td>Pedro</td>\n",
       "      <td>Ceará</td>\n",
       "    </tr>\n",
       "    <tr>\n",
       "      <th>3</th>\n",
       "      <td>João</td>\n",
       "      <td>Rio de Janeiro</td>\n",
       "    </tr>\n",
       "    <tr>\n",
       "      <th>4</th>\n",
       "      <td>Lídia</td>\n",
       "      <td>Ceará</td>\n",
       "    </tr>\n",
       "  </tbody>\n",
       "</table>\n",
       "</div>"
      ],
      "text/plain": [
       "     Nome          Estado\n",
       "1  Amanda  Rio de Janeiro\n",
       "2   Pedro           Ceará\n",
       "3    João  Rio de Janeiro\n",
       "4   Lídia           Ceará"
      ]
     },
     "execution_count": 57,
     "metadata": {},
     "output_type": "execute_result"
    }
   ],
   "source": [
    "tabela = {'Nome': ['Carlos','Amanda','Pedro','João','Lídia','Alfredo'],\n",
    "          'Idade':[15, 29, 19, 17, 14, 16],\n",
    "            'Estado':['São Paulo','Rio de Janeiro','Ceará','Rio de Janeiro','Ceará','Minas Gerais']}\n",
    "df = pd.DataFrame(tabela)\n",
    "\n",
    "#condicao 1: nomes de jovens menores de 18 anos\n",
    "menoresDe18 = df['Idade'] < 18\n",
    "print(df[menoresDe18][['Nome','Idade']])\n",
    "\n",
    "#condicao 2: jovens menores de 18 que moram no Ceará\n",
    "MoraNoCeara = df['Estado'] == 'Ceará'\n",
    "print(df[menoresDe18 & MoraNoCeara][['Nome','Estado']])\n",
    "\n",
    "#condicao 3 : Jovens Que morem no ceará ou no rio de janeiro\n",
    "\n",
    "CearaOuRio = (df['Estado'] == 'Ceará') | (df['Estado'] == 'Rio de Janeiro')\n",
    "print(df[CearaOuRio][['Nome','Estado']])\n"
   ]
  },
  {
   "cell_type": "markdown",
   "id": "9a401868",
   "metadata": {},
   "source": [
    "<h3>10.Utilizando pandas, como lidar com valores ausentes (NaN) em um\n",
    "DataFrame?</h3>"
   ]
  },
  {
   "cell_type": "code",
   "execution_count": null,
   "id": "6d7927f9",
   "metadata": {},
   "outputs": [],
   "source": [
    "# Através de métodos como .islull(), isna(), .dropna() e fillna() conseguimos identificar e tratar valores faltantes\n",
    "#====================== DETECTA NULOS ========================\n",
    "df.isnull() # -> retorna um dataframe de True/False mostrando quais valores são nulos ou não\n",
    "df.isnull().sum() # ->mostra total de valores nulos por coluna\n",
    "\n",
    "\n",
    "#======================= ELIMINA NULOS =========================\n",
    "df_sem_nam =df.dropna(axis=0)       #-> remove todas as linhas que contiverem ao menos um 'NaN' \n",
    "df_sem_nam_col = df.dropna(axis=1)  #-> remove colunas comqualquer 'NaN'\n",
    "df = df.dropna(how='all')           #-> remove linhas totalmente vazias\n",
    "\n",
    "# ========= PREENCHER VALORES AUSENTES (INPUTAR DADOS) ===============\n",
    "\n",
    "df['Cidade'] = df['Cidade'].fillna(\"Desconhecida\")\n",
    "\n",
    "df['Idade'] = df['Idade'].fillna(df['Idade'].mean())     # preencher com média\n",
    "df['Idade'] = df['Idade'].fillna(df['Idade'].median())   # preencher com mediana\n",
    "df['Idade'] = df['Idade'].fillna(df['Idade'].mode()[0])  # preehncher com moda\n",
    "\n",
    "\n",
    "df['Nome'] = df['Nome'].fillna(method='ffill')  # forward fill (preencher com valor anterior)\n",
    "df['Nome'] = df['Nome'].fillna(method='bfill')  # backward fill (preencher com valor seguinte)\n",
    "\n",
    "# ========== RESUMO =============\n",
    "\n",
    "# isnull() / notnull() → identificar.\n",
    "# dropna() → remover.\n",
    "# fillna() → substituir (valor fixo, estatística, forward/backward fill)."
   ]
  }
 ],
 "metadata": {
  "kernelspec": {
   "display_name": "Python 3",
   "language": "python",
   "name": "python3"
  },
  "language_info": {
   "codemirror_mode": {
    "name": "ipython",
    "version": 3
   },
   "file_extension": ".py",
   "mimetype": "text/x-python",
   "name": "python",
   "nbconvert_exporter": "python",
   "pygments_lexer": "ipython3",
   "version": "3.13.5"
  }
 },
 "nbformat": 4,
 "nbformat_minor": 5
}
